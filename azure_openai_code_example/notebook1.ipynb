{
 "cells": [
  {
   "cell_type": "code",
   "execution_count": 1,
   "id": "b251c5cf",
   "metadata": {},
   "outputs": [],
   "source": [
    "import os\n",
    "import openai\n",
    "openai.api_type = \"azure\"\n",
    "openai.api_base = \"https://openai-ct.openai.azure.com/\"\n",
    "openai.api_version = \"2023-03-15-preview\"\n",
    "openai.api_key = \"9fcf6b05a5a44a4ebbf4daa0979eae1e\""
   ]
  },
  {
   "cell_type": "markdown",
   "id": "40946871",
   "metadata": {},
   "source": [
    "# Receipe Chatbot"
   ]
  },
  {
   "cell_type": "code",
   "execution_count": 7,
   "id": "5999f626",
   "metadata": {},
   "outputs": [],
   "source": [
    "response = openai.ChatCompletion.create(engine=\"32k-Testing\",\n",
    "                                        temperature=0.7,\n",
    "                                        top_p = 0.95,\n",
    "                                        messages=[{\"role\": \"system\", \"content\": \"You are a helpful ai assistant which give recipes of food\"},\n",
    "                                                  { \"role\": \"user\", \"content\": \"receipe for making french fires\"}])\n",
    "\n"
   ]
  },
  {
   "cell_type": "code",
   "execution_count": 12,
   "id": "b1af1f65",
   "metadata": {},
   "outputs": [
    {
     "data": {
      "text/plain": [
       "<OpenAIObject chat.completion id=chatcmpl-7OmsD1FHayOsMc2k79VPfoy5o3S5M at 0x1dd839fc0e0> JSON: {\n",
       "  \"choices\": [\n",
       "    {\n",
       "      \"finish_reason\": \"stop\",\n",
       "      \"index\": 0,\n",
       "      \"message\": {\n",
       "        \"content\": \"Recipe for Making French Fries:\\n\\nIngredients:\\n- 4 large Russet potatoes (about 2 pounds)\\n- 1 quart of vegetable oil (for frying)\\n- Salt to taste\\n\\nInstructions:\\n\\n1. Wash and peel the potatoes. You can also leave the skin on if you prefer a more rustic-style fry.\\n\\n2. Cut the potatoes into long, even strips, about 1/4-inch to 1/2-inch thick. Try to make sure they are all roughly the same size, so they cook evenly.\\n\\n3. Soak the potato strips in a large bowl filled with cold water for at least 30 minutes, or up to a few hours. This step helps to remove excess starch and results in crispier fries.\\n\\n4. Drain the potatoes and pat them dry with paper towels or a clean kitchen towel.\\n\\n5. In a large, heavy pot or deep fryer, heat the vegetable oil to 300\\u00b0F (150\\u00b0C). Use a deep-fry thermometer to monitor the temperature.\\n\\n6. Carefully lower a small batch of the potato strips into the hot oil, using a slotted spoon or a spider strainer. Be cautious not to overcrowd the pot, as this can lower the oil temperature and result in soggy fries.\\n\\n7. Fry the potatoes for about 5 minutes, or until they are cooked through but not yet browned. Remove the fries from the oil with a slotted spoon or spider strainer, and let them drain on a paper towel-lined plate or wire rack.\\n\\n8. Repeat this process with the remaining potato strips, allowing the oil to return to 300\\u00b0F (150\\u00b0C) between each batch.\\n\\n9. Once all the fries have been fried once, increase the oil temperature to 375\\u00b0F (190\\u00b0C).\\n\\n10. Fry the potatoes in small batches again, for about 2-3 minutes or until they are golden brown and crispy. Remove from the oil and drain on fresh paper towels or a wire rack.\\n\\n11. Season the fries immediately with salt while they are still hot.\\n\\n12. Serve your homemade French fries with your favorite dipping sauces and enjoy!\",\n",
       "        \"role\": \"assistant\"\n",
       "      }\n",
       "    }\n",
       "  ],\n",
       "  \"created\": 1686142097,\n",
       "  \"id\": \"chatcmpl-7OmsD1FHayOsMc2k79VPfoy5o3S5M\",\n",
       "  \"model\": \"gpt-4-32k\",\n",
       "  \"object\": \"chat.completion\",\n",
       "  \"usage\": {\n",
       "    \"completion_tokens\": 428,\n",
       "    \"prompt_tokens\": 28,\n",
       "    \"total_tokens\": 456\n",
       "  }\n",
       "}"
      ]
     },
     "execution_count": 12,
     "metadata": {},
     "output_type": "execute_result"
    }
   ],
   "source": [
    "response"
   ]
  },
  {
   "cell_type": "code",
   "execution_count": 13,
   "id": "5cbb544a",
   "metadata": {},
   "outputs": [
    {
     "name": "stdout",
     "output_type": "stream",
     "text": [
      "Recipe for Making French Fries:\n",
      "\n",
      "Ingredients:\n",
      "- 4 large Russet potatoes (about 2 pounds)\n",
      "- 1 quart of vegetable oil (for frying)\n",
      "- Salt to taste\n",
      "\n",
      "Instructions:\n",
      "\n",
      "1. Wash and peel the potatoes. You can also leave the skin on if you prefer a more rustic-style fry.\n",
      "\n",
      "2. Cut the potatoes into long, even strips, about 1/4-inch to 1/2-inch thick. Try to make sure they are all roughly the same size, so they cook evenly.\n",
      "\n",
      "3. Soak the potato strips in a large bowl filled with cold water for at least 30 minutes, or up to a few hours. This step helps to remove excess starch and results in crispier fries.\n",
      "\n",
      "4. Drain the potatoes and pat them dry with paper towels or a clean kitchen towel.\n",
      "\n",
      "5. In a large, heavy pot or deep fryer, heat the vegetable oil to 300°F (150°C). Use a deep-fry thermometer to monitor the temperature.\n",
      "\n",
      "6. Carefully lower a small batch of the potato strips into the hot oil, using a slotted spoon or a spider strainer. Be cautious not to overcrowd the pot, as this can lower the oil temperature and result in soggy fries.\n",
      "\n",
      "7. Fry the potatoes for about 5 minutes, or until they are cooked through but not yet browned. Remove the fries from the oil with a slotted spoon or spider strainer, and let them drain on a paper towel-lined plate or wire rack.\n",
      "\n",
      "8. Repeat this process with the remaining potato strips, allowing the oil to return to 300°F (150°C) between each batch.\n",
      "\n",
      "9. Once all the fries have been fried once, increase the oil temperature to 375°F (190°C).\n",
      "\n",
      "10. Fry the potatoes in small batches again, for about 2-3 minutes or until they are golden brown and crispy. Remove from the oil and drain on fresh paper towels or a wire rack.\n",
      "\n",
      "11. Season the fries immediately with salt while they are still hot.\n",
      "\n",
      "12. Serve your homemade French fries with your favorite dipping sauces and enjoy!\n"
     ]
    }
   ],
   "source": [
    "print(response['choices'][0]['message'][\"content\"])"
   ]
  },
  {
   "cell_type": "code",
   "execution_count": null,
   "id": "3056980b",
   "metadata": {},
   "outputs": [],
   "source": []
  },
  {
   "cell_type": "markdown",
   "id": "e46850d3",
   "metadata": {},
   "source": [
    "# Movie and series suggestions."
   ]
  },
  {
   "cell_type": "code",
   "execution_count": 14,
   "id": "16104556",
   "metadata": {},
   "outputs": [],
   "source": [
    "response = openai.ChatCompletion.create(engine=\"32k-Testing\",\n",
    "                                        temperature=0.7,\n",
    "                                        top_p = 0.95,\n",
    "                                        messages=[{\"role\": \"system\", \"content\": \"You are a helpful ai assistant which give suggestions on movies and series\"},\n",
    "                                                  { \"role\": \"user\", \"content\": \"suggest me some action web series\"}])"
   ]
  },
  {
   "cell_type": "code",
   "execution_count": 15,
   "id": "d1d33443",
   "metadata": {},
   "outputs": [
    {
     "data": {
      "text/plain": [
       "<OpenAIObject chat.completion id=chatcmpl-7OmulxVLRIO40LSePCnrK8OLo8COR at 0x1dd839b36a0> JSON: {\n",
       "  \"choices\": [\n",
       "    {\n",
       "      \"finish_reason\": \"stop\",\n",
       "      \"index\": 0,\n",
       "      \"message\": {\n",
       "        \"content\": \"Here are some action-packed web series that you might enjoy:\\n\\n1. Daredevil (Netflix) - A blind lawyer fights crime as a masked vigilante in Hell's Kitchen, New York City.\\n2. The Mandalorian (Disney+) - A lone gunfighter navigates the outer reaches of the galaxy in this Star Wars series.\\n3. The Witcher (Netflix) - A monster hunter struggles to find his place in a world where people are often more wicked than beasts.\\n4. Arrow (Netflix) - A billionaire playboy becomes a vigilante archer to fight crime and corruption in Starling City.\\n5. The Punisher (Netflix) - A former Marine out to avenge the murder of his family becomes entangled in a military conspiracy.\\n6. The Umbrella Academy (Netflix) - A dysfunctional family of superheroes reunites to save the world from an impending apocalypse.\\n7. The Boys (Amazon Prime Video) - A group of vigilantes sets out to take down corrupt superheroes who abuse their powers.\\n8. Altered Carbon (Netflix) - A former soldier is brought back to life in a new body to solve a complex murder case in a futuristic world.\\n9. Jack Ryan (Amazon Prime Video) - A CIA analyst is thrust into dangerous field assignments as he uncovers terrorist plots.\\n10. Into the Badlands (Netflix) - In a post-apocalyptic world, a warrior and a boy search for enlightenment and a better life.\\n\\nThese series span various platforms, so be sure to check if you have access to the streaming services mentioned. Enjoy!\",\n",
       "        \"role\": \"assistant\"\n",
       "      }\n",
       "    }\n",
       "  ],\n",
       "  \"created\": 1686142255,\n",
       "  \"id\": \"chatcmpl-7OmulxVLRIO40LSePCnrK8OLo8COR\",\n",
       "  \"model\": \"gpt-4-32k\",\n",
       "  \"object\": \"chat.completion\",\n",
       "  \"usage\": {\n",
       "    \"completion_tokens\": 315,\n",
       "    \"prompt_tokens\": 30,\n",
       "    \"total_tokens\": 345\n",
       "  }\n",
       "}"
      ]
     },
     "execution_count": 15,
     "metadata": {},
     "output_type": "execute_result"
    }
   ],
   "source": [
    "response"
   ]
  },
  {
   "cell_type": "code",
   "execution_count": 16,
   "id": "e37a0961",
   "metadata": {},
   "outputs": [
    {
     "name": "stdout",
     "output_type": "stream",
     "text": [
      "Here are some action-packed web series that you might enjoy:\n",
      "\n",
      "1. Daredevil (Netflix) - A blind lawyer fights crime as a masked vigilante in Hell's Kitchen, New York City.\n",
      "2. The Mandalorian (Disney+) - A lone gunfighter navigates the outer reaches of the galaxy in this Star Wars series.\n",
      "3. The Witcher (Netflix) - A monster hunter struggles to find his place in a world where people are often more wicked than beasts.\n",
      "4. Arrow (Netflix) - A billionaire playboy becomes a vigilante archer to fight crime and corruption in Starling City.\n",
      "5. The Punisher (Netflix) - A former Marine out to avenge the murder of his family becomes entangled in a military conspiracy.\n",
      "6. The Umbrella Academy (Netflix) - A dysfunctional family of superheroes reunites to save the world from an impending apocalypse.\n",
      "7. The Boys (Amazon Prime Video) - A group of vigilantes sets out to take down corrupt superheroes who abuse their powers.\n",
      "8. Altered Carbon (Netflix) - A former soldier is brought back to life in a new body to solve a complex murder case in a futuristic world.\n",
      "9. Jack Ryan (Amazon Prime Video) - A CIA analyst is thrust into dangerous field assignments as he uncovers terrorist plots.\n",
      "10. Into the Badlands (Netflix) - In a post-apocalyptic world, a warrior and a boy search for enlightenment and a better life.\n",
      "\n",
      "These series span various platforms, so be sure to check if you have access to the streaming services mentioned. Enjoy!\n"
     ]
    }
   ],
   "source": [
    "print(response['choices'][0]['message'][\"content\"])"
   ]
  },
  {
   "cell_type": "code",
   "execution_count": null,
   "id": "36b9976b",
   "metadata": {},
   "outputs": [],
   "source": []
  },
  {
   "cell_type": "markdown",
   "id": "558fba0e",
   "metadata": {},
   "source": [
    "# Complex Questions\n",
    "### Chatbot answers to complex questions"
   ]
  },
  {
   "cell_type": "code",
   "execution_count": 17,
   "id": "cc679a73",
   "metadata": {},
   "outputs": [],
   "source": [
    "response = openai.ChatCompletion.create(engine=\"32k-Testing\",\n",
    "                                        temperature=0.7,\n",
    "                                        top_p = 0.95,\n",
    "                                        messages=[{\"role\": \"system\", \"content\": \"You are a helpful ai assistant which will resolve complex math questions\"},\n",
    "                                                  { \"role\": \"user\", \"content\": \"Determine the value of $\\sin\\left(\\frac{\\pi}{4} + i\\ln(2)\\right)$.\"}])"
   ]
  },
  {
   "cell_type": "code",
   "execution_count": 18,
   "id": "42b56971",
   "metadata": {},
   "outputs": [
    {
     "data": {
      "text/plain": [
       "<OpenAIObject chat.completion id=chatcmpl-7Omygt5i99cFEsBE30DOjMEcJ1qHb at 0x1dd85af3920> JSON: {\n",
       "  \"choices\": [\n",
       "    {\n",
       "      \"finish_reason\": \"stop\",\n",
       "      \"index\": 0,\n",
       "      \"message\": {\n",
       "        \"content\": \"To find the value of $\\\\sin\\\\left(\\\\frac{\\\\pi}{4} + i\\\\ln(2)\\\\right)$, we can use the addition formula for sine, which states that:\\n\\n$\\\\sin(A + B) = \\\\sin(A) \\\\cos(B) + \\\\cos(A) \\\\sin(B)$\\n\\nIn this case, $A = \\\\frac{\\\\pi}{4}$ and $B = i\\\\ln(2)$. We know that $\\\\sin\\\\left(\\\\frac{\\\\pi}{4}\\\\right) = \\\\frac{1}{\\\\sqrt{2}}$ and $\\\\cos\\\\left(\\\\frac{\\\\pi}{4}\\\\right) = \\\\frac{1}{\\\\sqrt{2}}$. \\n\\nTo find the sine and cosine of the complex number $i\\\\ln(2)$, we use Euler's formula, which states that:\\n\\n$e^{ix} = \\\\cos(x) + i\\\\sin(x)$\\n\\nFor $x = \\\\ln(2)$, we have:\\n\\n$e^{i\\\\ln(2)} = \\\\cos(\\\\ln(2)) + i\\\\sin(\\\\ln(2))$\\n\\nNow, we can use the addition formula for sine:\\n\\n$\\\\sin\\\\left(\\\\frac{\\\\pi}{4} + i\\\\ln(2)\\\\right) = \\\\frac{1}{\\\\sqrt{2}}\\\\cos(\\\\ln(2)) + \\\\frac{1}{\\\\sqrt{2}}i\\\\sin(\\\\ln(2))$\\n\\nSo, the value of the expression is:\\n\\n$\\\\frac{1}{\\\\sqrt{2}}\\\\cos(\\\\ln(2)) + \\\\frac{1}{\\\\sqrt{2}}i\\\\sin(\\\\ln(2))$\",\n",
       "        \"role\": \"assistant\"\n",
       "      }\n",
       "    }\n",
       "  ],\n",
       "  \"created\": 1686142498,\n",
       "  \"id\": \"chatcmpl-7Omygt5i99cFEsBE30DOjMEcJ1qHb\",\n",
       "  \"model\": \"gpt-4-32k\",\n",
       "  \"object\": \"chat.completion\",\n",
       "  \"usage\": {\n",
       "    \"completion_tokens\": 344,\n",
       "    \"prompt_tokens\": 51,\n",
       "    \"total_tokens\": 395\n",
       "  }\n",
       "}"
      ]
     },
     "execution_count": 18,
     "metadata": {},
     "output_type": "execute_result"
    }
   ],
   "source": [
    "response"
   ]
  },
  {
   "cell_type": "code",
   "execution_count": 19,
   "id": "450b4171",
   "metadata": {},
   "outputs": [
    {
     "name": "stdout",
     "output_type": "stream",
     "text": [
      "To find the value of $\\sin\\left(\\frac{\\pi}{4} + i\\ln(2)\\right)$, we can use the addition formula for sine, which states that:\n",
      "\n",
      "$\\sin(A + B) = \\sin(A) \\cos(B) + \\cos(A) \\sin(B)$\n",
      "\n",
      "In this case, $A = \\frac{\\pi}{4}$ and $B = i\\ln(2)$. We know that $\\sin\\left(\\frac{\\pi}{4}\\right) = \\frac{1}{\\sqrt{2}}$ and $\\cos\\left(\\frac{\\pi}{4}\\right) = \\frac{1}{\\sqrt{2}}$. \n",
      "\n",
      "To find the sine and cosine of the complex number $i\\ln(2)$, we use Euler's formula, which states that:\n",
      "\n",
      "$e^{ix} = \\cos(x) + i\\sin(x)$\n",
      "\n",
      "For $x = \\ln(2)$, we have:\n",
      "\n",
      "$e^{i\\ln(2)} = \\cos(\\ln(2)) + i\\sin(\\ln(2))$\n",
      "\n",
      "Now, we can use the addition formula for sine:\n",
      "\n",
      "$\\sin\\left(\\frac{\\pi}{4} + i\\ln(2)\\right) = \\frac{1}{\\sqrt{2}}\\cos(\\ln(2)) + \\frac{1}{\\sqrt{2}}i\\sin(\\ln(2))$\n",
      "\n",
      "So, the value of the expression is:\n",
      "\n",
      "$\\frac{1}{\\sqrt{2}}\\cos(\\ln(2)) + \\frac{1}{\\sqrt{2}}i\\sin(\\ln(2))$\n"
     ]
    }
   ],
   "source": [
    "print(response['choices'][0]['message'][\"content\"])"
   ]
  },
  {
   "cell_type": "code",
   "execution_count": null,
   "id": "fffa5dbd",
   "metadata": {},
   "outputs": [],
   "source": []
  }
 ],
 "metadata": {
  "kernelspec": {
   "display_name": "Python 3 (ipykernel)",
   "language": "python",
   "name": "python3"
  },
  "language_info": {
   "codemirror_mode": {
    "name": "ipython",
    "version": 3
   },
   "file_extension": ".py",
   "mimetype": "text/x-python",
   "name": "python",
   "nbconvert_exporter": "python",
   "pygments_lexer": "ipython3",
   "version": "3.10.9"
  }
 },
 "nbformat": 4,
 "nbformat_minor": 5
}
