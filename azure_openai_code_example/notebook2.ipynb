{
 "cells": [
  {
   "cell_type": "code",
   "execution_count": 1,
   "id": "376f6c82",
   "metadata": {},
   "outputs": [],
   "source": [
    "import os\n",
    "import openai\n",
    "openai.api_type = \"azure\"\n",
    "openai.api_base = \"https://openai-ct.openai.azure.com/\"\n",
    "openai.api_version = \"2023-03-15-preview\"\n",
    "openai.api_key = \"9fcf6b05a5a44a4ebbf4daa0979eae1e\""
   ]
  },
  {
   "cell_type": "markdown",
   "id": "8a295440",
   "metadata": {},
   "source": [
    "# One Shot Learning"
   ]
  },
  {
   "cell_type": "code",
   "execution_count": 2,
   "id": "7be48c03",
   "metadata": {},
   "outputs": [],
   "source": [
    "response = openai.ChatCompletion.create(engine=\"32k-Testing\",\n",
    "                                        temperature=0.7,\n",
    "                                        top_p = 0.95,\n",
    "                                        messages=[{\"role\": \"system\", \"content\": \"You are a helpful ai assistant\"},\n",
    "                                                  { \"role\": \"user\", \"content\": \"who wrote mahabahart\"},\n",
    "                                                 {\"role\": \"assistant\", \"content\": \"ved vyas\"},\n",
    "                                                  { \"role\": \"user\", \"content\": \"who wrote ramayan\"}])\n",
    "\n"
   ]
  },
  {
   "cell_type": "code",
   "execution_count": 3,
   "id": "14baa093",
   "metadata": {},
   "outputs": [
    {
     "data": {
      "text/plain": [
       "<OpenAIObject chat.completion id=chatcmpl-7On4XuKS7nZGV1LbcgkBt9rsDBBfw at 0x1e4c34ca750> JSON: {\n",
       "  \"choices\": [\n",
       "    {\n",
       "      \"finish_reason\": \"stop\",\n",
       "      \"index\": 0,\n",
       "      \"message\": {\n",
       "        \"content\": \"The Ramayana was written by the sage Valmiki.\",\n",
       "        \"role\": \"assistant\"\n",
       "      }\n",
       "    }\n",
       "  ],\n",
       "  \"created\": 1686142861,\n",
       "  \"id\": \"chatcmpl-7On4XuKS7nZGV1LbcgkBt9rsDBBfw\",\n",
       "  \"model\": \"gpt-4-32k\",\n",
       "  \"object\": \"chat.completion\",\n",
       "  \"usage\": {\n",
       "    \"completion_tokens\": 13,\n",
       "    \"prompt_tokens\": 38,\n",
       "    \"total_tokens\": 51\n",
       "  }\n",
       "}"
      ]
     },
     "execution_count": 3,
     "metadata": {},
     "output_type": "execute_result"
    }
   ],
   "source": [
    "response"
   ]
  },
  {
   "cell_type": "code",
   "execution_count": 4,
   "id": "eac99651",
   "metadata": {},
   "outputs": [
    {
     "name": "stdout",
     "output_type": "stream",
     "text": [
      "The Ramayana was written by the sage Valmiki.\n"
     ]
    }
   ],
   "source": [
    "print(response['choices'][0]['message'][\"content\"])"
   ]
  },
  {
   "cell_type": "markdown",
   "id": "d5c46a6b",
   "metadata": {},
   "source": [
    "# few shot learning"
   ]
  },
  {
   "cell_type": "code",
   "execution_count": 5,
   "id": "6dab0bcf",
   "metadata": {},
   "outputs": [],
   "source": [
    "response = openai.ChatCompletion.create(engine=\"32k-Testing\",\n",
    "                                        temperature=0.7,\n",
    "                                        top_p = 0.95,\n",
    "                                        messages=[{\"role\": \"system\", \"content\": \"You are a helpful ai assistant which give a famous dialogue of a celebraty\"},\n",
    "                                                  { \"role\": \"user\", \"content\": \"Amitab Bachan\"},\n",
    "                                                 {\"role\": \"assistant\", \"content\": \"Yeh kya hai? Yeh mera imaan hai, aur main isse khoon ke aage bhi nahi jhukne dunga\"},\n",
    "                                                  { \"role\": \"user\", \"content\": \"tom crus\"},\n",
    "                                                 { \"role\": \"assistant\", \"content\": \"Show me the money!\"},\n",
    "                                                 { \"role\": \"user\", \"content\": \"SRK\"},\n",
    "                                                 { \"role\": \"assistant\", \"content\": \"Bade bade deshon mein aisi chhoti chhoti baatein hoti rehti hai, Senorita.\"},\n",
    "                                                 { \"role\": \"user\", \"content\": \"Robert doweny jr.\"}])\n",
    "\n"
   ]
  },
  {
   "cell_type": "code",
   "execution_count": 6,
   "id": "df18c638",
   "metadata": {},
   "outputs": [
    {
     "data": {
      "text/plain": [
       "<OpenAIObject chat.completion id=chatcmpl-7OnRtjaKU6hkmU5dBdfCl6VNLBd1C at 0x1e4c4f2fab0> JSON: {\n",
       "  \"choices\": [\n",
       "    {\n",
       "      \"finish_reason\": \"stop\",\n",
       "      \"index\": 0,\n",
       "      \"message\": {\n",
       "        \"content\": \"I am Iron Man.\",\n",
       "        \"role\": \"assistant\"\n",
       "      }\n",
       "    }\n",
       "  ],\n",
       "  \"created\": 1686144309,\n",
       "  \"id\": \"chatcmpl-7OnRtjaKU6hkmU5dBdfCl6VNLBd1C\",\n",
       "  \"model\": \"gpt-4-32k\",\n",
       "  \"object\": \"chat.completion\",\n",
       "  \"usage\": {\n",
       "    \"completion_tokens\": 5,\n",
       "    \"prompt_tokens\": 130,\n",
       "    \"total_tokens\": 135\n",
       "  }\n",
       "}"
      ]
     },
     "execution_count": 6,
     "metadata": {},
     "output_type": "execute_result"
    }
   ],
   "source": [
    "response"
   ]
  },
  {
   "cell_type": "code",
   "execution_count": 7,
   "id": "d9134c30",
   "metadata": {},
   "outputs": [
    {
     "name": "stdout",
     "output_type": "stream",
     "text": [
      "I am Iron Man.\n"
     ]
    }
   ],
   "source": [
    "print(response['choices'][0]['message'][\"content\"])"
   ]
  },
  {
   "cell_type": "code",
   "execution_count": null,
   "id": "e65b3bef",
   "metadata": {},
   "outputs": [],
   "source": []
  }
 ],
 "metadata": {
  "kernelspec": {
   "display_name": "Python 3 (ipykernel)",
   "language": "python",
   "name": "python3"
  },
  "language_info": {
   "codemirror_mode": {
    "name": "ipython",
    "version": 3
   },
   "file_extension": ".py",
   "mimetype": "text/x-python",
   "name": "python",
   "nbconvert_exporter": "python",
   "pygments_lexer": "ipython3",
   "version": "3.10.9"
  }
 },
 "nbformat": 4,
 "nbformat_minor": 5
}
